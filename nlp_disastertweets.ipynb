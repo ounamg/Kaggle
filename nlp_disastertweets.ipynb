{
 "cells": [
  {
   "cell_type": "code",
   "execution_count": 154,
   "id": "2ef88dcd",
   "metadata": {},
   "outputs": [],
   "source": [
    "import pandas as pd\n",
    "\n",
    "import re\n",
    "import string\n",
    "import nltk\n",
    "from nltk.corpus import stopwords\n",
    "\n",
    "from sklearn.feature_extraction.text import CountVectorizer,TfidfVectorizer, TfidfTransformer\n",
    "from sklearn.model_selection import RepeatedStratifiedKFold,cross_val_score\n",
    "from sklearn.linear_model import LogisticRegression\n",
    "from sklearn.naive_bayes import MultinomialNB\n",
    "from sklearn.pipeline import Pipeline\n",
    "from sklearn.metrics import f1_score\n",
    "import pickle\n",
    "\n",
    "from sklearn import svm\n"
   ]
  },
  {
   "cell_type": "code",
   "execution_count": 139,
   "id": "94e345f9",
   "metadata": {},
   "outputs": [],
   "source": [
    "train = pd.read_csv('train.csv')\n",
    "test = pd.read_csv('test.csv')"
   ]
  },
  {
   "cell_type": "code",
   "execution_count": 140,
   "id": "cac85743",
   "metadata": {},
   "outputs": [
    {
     "data": {
      "text/plain": [
       "(3263, 4)"
      ]
     },
     "execution_count": 140,
     "metadata": {},
     "output_type": "execute_result"
    }
   ],
   "source": [
    "test.shape"
   ]
  },
  {
   "cell_type": "code",
   "execution_count": 141,
   "id": "df95330a",
   "metadata": {},
   "outputs": [],
   "source": [
    "train = train.drop(columns=['id','keyword', 'location'], axis = 1)"
   ]
  },
  {
   "cell_type": "code",
   "execution_count": 142,
   "id": "aac769a2",
   "metadata": {},
   "outputs": [
    {
     "data": {
      "text/plain": [
       "0    our deeds are the reason of this earthquake ma...\n",
       "1                forest fire near la ronge sask canada\n",
       "2    all residents asked to shelter in place are be...\n",
       "3     people receive wildfires evacuation orders in...\n",
       "4    just got sent this photo from ruby alaska as s...\n",
       "Name: text, dtype: object"
      ]
     },
     "execution_count": 142,
     "metadata": {},
     "output_type": "execute_result"
    }
   ],
   "source": [
    "train.text=train.text.apply(lambda x:x.lower() )\n",
    "test.text=test.text.apply(lambda x:x.lower())\n",
    "#removing square brackets\n",
    "train.text=train.text.apply(lambda x:re.sub('\\[.*?\\]', '', x) )\n",
    "test.text=test.text.apply(lambda x:re.sub('\\[.*?\\]', '', x) )\n",
    "train.text=train.text.apply(lambda x:re.sub('<.*?>+', '', x) )\n",
    "test.text=test.text.apply(lambda x:re.sub('<.*?>+', '', x) )\n",
    "#removing hyperlink\n",
    "train.text=train.text.apply(lambda x:re.sub('https?://\\S+|www\\.\\S+', '', x) )\n",
    "test.text=test.text.apply(lambda x:re.sub('https?://\\S+|www\\.\\S+', '', x) )\n",
    "#removing puncuation\n",
    "train.text=train.text.apply(lambda x:re.sub('[%s]' % re.escape(string.punctuation), '', x) )\n",
    "test.text=test.text.apply(lambda x:re.sub('[%s]' % re.escape(string.punctuation), '', x) )\n",
    "train.text=train.text.apply(lambda x:re.sub('\\n' , '', x) )\n",
    "test.text=test.text.apply(lambda x:re.sub('\\n', '', x) )\n",
    "#remove words containing numbers\n",
    "train.text=train.text.apply(lambda x:re.sub('\\w*\\d\\w*' , '', x) )\n",
    "test.text=test.text.apply(lambda x:re.sub('\\w*\\d\\w*', '', x) )\n",
    "\n",
    "train.text.head()"
   ]
  },
  {
   "cell_type": "code",
   "execution_count": 143,
   "id": "3a4dcd36",
   "metadata": {},
   "outputs": [
    {
     "name": "stderr",
     "output_type": "stream",
     "text": [
      "<ipython-input-143-b10448f9c2c6>:3: SettingWithCopyWarning: \n",
      "A value is trying to be set on a copy of a slice from a DataFrame\n",
      "\n",
      "See the caveats in the documentation: https://pandas.pydata.org/pandas-docs/stable/user_guide/indexing.html#returning-a-view-versus-a-copy\n",
      "  train.text[i] = str(train.text[i])\n",
      "<ipython-input-143-b10448f9c2c6>:6: SettingWithCopyWarning: \n",
      "A value is trying to be set on a copy of a slice from a DataFrame\n",
      "\n",
      "See the caveats in the documentation: https://pandas.pydata.org/pandas-docs/stable/user_guide/indexing.html#returning-a-view-versus-a-copy\n",
      "  test.text[i] = str(test.text[i])\n"
     ]
    }
   ],
   "source": [
    "# train['text'] = str(train['text'])\n",
    "for i in range(7613):\n",
    "    train.text[i] = str(train.text[i])\n",
    "    \n",
    "for i in range(3263):\n",
    "    test.text[i] = str(test.text[i])"
   ]
  },
  {
   "cell_type": "code",
   "execution_count": 144,
   "id": "44e5051c",
   "metadata": {},
   "outputs": [
    {
     "data": {
      "text/html": [
       "<div>\n",
       "<style scoped>\n",
       "    .dataframe tbody tr th:only-of-type {\n",
       "        vertical-align: middle;\n",
       "    }\n",
       "\n",
       "    .dataframe tbody tr th {\n",
       "        vertical-align: top;\n",
       "    }\n",
       "\n",
       "    .dataframe thead th {\n",
       "        text-align: right;\n",
       "    }\n",
       "</style>\n",
       "<table border=\"1\" class=\"dataframe\">\n",
       "  <thead>\n",
       "    <tr style=\"text-align: right;\">\n",
       "      <th></th>\n",
       "      <th>text</th>\n",
       "    </tr>\n",
       "  </thead>\n",
       "  <tbody>\n",
       "    <tr>\n",
       "      <th>0</th>\n",
       "      <td>just happened a terrible car crash</td>\n",
       "    </tr>\n",
       "    <tr>\n",
       "      <th>1</th>\n",
       "      <td>heard about earthquake is different cities sta...</td>\n",
       "    </tr>\n",
       "    <tr>\n",
       "      <th>2</th>\n",
       "      <td>there is a forest fire at spot pond geese are ...</td>\n",
       "    </tr>\n",
       "    <tr>\n",
       "      <th>3</th>\n",
       "      <td>apocalypse lighting spokane wildfires</td>\n",
       "    </tr>\n",
       "    <tr>\n",
       "      <th>4</th>\n",
       "      <td>typhoon soudelor kills  in china and taiwan</td>\n",
       "    </tr>\n",
       "    <tr>\n",
       "      <th>...</th>\n",
       "      <td>...</td>\n",
       "    </tr>\n",
       "    <tr>\n",
       "      <th>3258</th>\n",
       "      <td>earthquake safety los angeles ûò safety faste...</td>\n",
       "    </tr>\n",
       "    <tr>\n",
       "      <th>3259</th>\n",
       "      <td>storm in ri worse than last hurricane my  hard...</td>\n",
       "    </tr>\n",
       "    <tr>\n",
       "      <th>3260</th>\n",
       "      <td>green line derailment in chicago</td>\n",
       "    </tr>\n",
       "    <tr>\n",
       "      <th>3261</th>\n",
       "      <td>meg issues hazardous weather outlook hwo</td>\n",
       "    </tr>\n",
       "    <tr>\n",
       "      <th>3262</th>\n",
       "      <td>cityofcalgary has activated its municipal emer...</td>\n",
       "    </tr>\n",
       "  </tbody>\n",
       "</table>\n",
       "<p>3263 rows × 1 columns</p>\n",
       "</div>"
      ],
      "text/plain": [
       "                                                   text\n",
       "0                    just happened a terrible car crash\n",
       "1     heard about earthquake is different cities sta...\n",
       "2     there is a forest fire at spot pond geese are ...\n",
       "3                 apocalypse lighting spokane wildfires\n",
       "4           typhoon soudelor kills  in china and taiwan\n",
       "...                                                 ...\n",
       "3258  earthquake safety los angeles ûò safety faste...\n",
       "3259  storm in ri worse than last hurricane my  hard...\n",
       "3260                  green line derailment in chicago \n",
       "3261          meg issues hazardous weather outlook hwo \n",
       "3262  cityofcalgary has activated its municipal emer...\n",
       "\n",
       "[3263 rows x 1 columns]"
      ]
     },
     "execution_count": 144,
     "metadata": {},
     "output_type": "execute_result"
    }
   ],
   "source": [
    "test.drop(columns=['id', 'keyword', 'location'], axis = 1)"
   ]
  },
  {
   "cell_type": "code",
   "execution_count": 145,
   "id": "34f6b014",
   "metadata": {},
   "outputs": [
    {
     "data": {
      "text/plain": [
       "0    [our, deeds, are, the, reason, of, this, earth...\n",
       "1        [forest, fire, near, la, ronge, sask, canada]\n",
       "2    [all, residents, asked, to, shelter, in, place...\n",
       "3    [people, receive, wildfires, evacuation, order...\n",
       "4    [just, got, sent, this, photo, from, ruby, ala...\n",
       "Name: text, dtype: object"
      ]
     },
     "metadata": {},
     "output_type": "display_data"
    }
   ],
   "source": [
    "token=nltk.tokenize.RegexpTokenizer(r'\\w+')\n",
    "#applying token\n",
    "train.text=train.text.apply(lambda x:token.tokenize(x))\n",
    "test.text=test.text.apply(lambda x:token.tokenize(x))\n",
    "#view\n",
    "display(train.text.head())"
   ]
  },
  {
   "cell_type": "code",
   "execution_count": 146,
   "id": "0d36ea97",
   "metadata": {},
   "outputs": [
    {
     "name": "stderr",
     "output_type": "stream",
     "text": [
      "[nltk_data] Downloading package stopwords to\n",
      "[nltk_data]     C:\\Users\\user\\AppData\\Roaming\\nltk_data...\n",
      "[nltk_data]   Package stopwords is already up-to-date!\n"
     ]
    },
    {
     "data": {
      "text/plain": [
       "0    [deeds, reason, earthquake, may, allah, forgiv...\n",
       "1        [forest, fire, near, la, ronge, sask, canada]\n",
       "2    [residents, asked, shelter, place, notified, o...\n",
       "3    [people, receive, wildfires, evacuation, order...\n",
       "4    [got, sent, photo, ruby, alaska, smoke, wildfi...\n",
       "Name: text, dtype: object"
      ]
     },
     "execution_count": 146,
     "metadata": {},
     "output_type": "execute_result"
    }
   ],
   "source": [
    "nltk.download('stopwords')\n",
    "#removing stop words\n",
    "train.text=train.text.apply(lambda x:[w for w in x if w not in stopwords.words('english')])\n",
    "test.text=test.text.apply(lambda x:[w for w in x if w not in stopwords.words('english')])\n",
    "#view\n",
    "train.text.head()"
   ]
  },
  {
   "cell_type": "code",
   "execution_count": 147,
   "id": "9e72e361",
   "metadata": {},
   "outputs": [
    {
     "data": {
      "text/plain": [
       "0            deed reason earthquak may allah forgiv us\n",
       "1                 forest fire near la rong sask canada\n",
       "2    resid ask shelter place notifi offic evacu she...\n",
       "3          peopl receiv wildfir evacu order california\n",
       "4    got sent photo rubi alaska smoke wildfir pour ...\n",
       "Name: text, dtype: object"
      ]
     },
     "execution_count": 147,
     "metadata": {},
     "output_type": "execute_result"
    }
   ],
   "source": [
    "stemmer = nltk.stem.PorterStemmer()\n",
    "train.text=train.text.apply(lambda x:\" \".join(stemmer.stem(token) for token in x))\n",
    "test.text=test.text.apply(lambda x:\" \".join(stemmer.stem(token) for token in x))\n",
    "#View\n",
    "train.text.head()"
   ]
  },
  {
   "cell_type": "code",
   "execution_count": 148,
   "id": "78102737",
   "metadata": {},
   "outputs": [],
   "source": [
    "count_vectorizer = CountVectorizer()\n",
    "train_vectors_count = count_vectorizer.fit_transform(train['text'])\n",
    "test_vectors_count = count_vectorizer.transform(test[\"text\"])"
   ]
  },
  {
   "cell_type": "code",
   "execution_count": 149,
   "id": "6329d6d7",
   "metadata": {},
   "outputs": [
    {
     "data": {
      "text/plain": [
       "array([0.77127244, 0.75604053, 0.74760383, 0.74822415, 0.76228209,\n",
       "       0.75396825, 0.75545171, 0.75917065, 0.75851148, 0.75409836,\n",
       "       0.74584323, 0.74451411, 0.76682316, 0.75911252, 0.75862069])"
      ]
     },
     "execution_count": 149,
     "metadata": {},
     "output_type": "execute_result"
    }
   ],
   "source": [
    "NB_Vec = MultinomialNB()\n",
    "cv = RepeatedStratifiedKFold(n_splits=5, n_repeats=3, random_state=1)\n",
    "scores = cross_val_score(NB_Vec, train_vectors_count, train[\"target\"], cv=cv, scoring=\"f1\")\n",
    "scores"
   ]
  },
  {
   "cell_type": "code",
   "execution_count": 150,
   "id": "4ac92138",
   "metadata": {},
   "outputs": [
    {
     "data": {
      "text/plain": [
       "Pipeline(steps=[('Vectors', CountVectorizer(stop_words='english')),\n",
       "                ('tfidf', TfidfTransformer()), ('NB', MultinomialNB())])"
      ]
     },
     "execution_count": 150,
     "metadata": {},
     "output_type": "execute_result"
    }
   ],
   "source": [
    "pipe = Pipeline([('Vectors', CountVectorizer(stop_words='english')),('tfidf', TfidfTransformer()),\n",
    "     ('NB', MultinomialNB())])\n",
    "pipe.fit(train.text.values, train[\"target\"].values)"
   ]
  },
  {
   "cell_type": "code",
   "execution_count": 151,
   "id": "d7a7d4bd",
   "metadata": {},
   "outputs": [],
   "source": [
    "test['target'] = pred"
   ]
  },
  {
   "cell_type": "code",
   "execution_count": 152,
   "id": "b4abd367",
   "metadata": {},
   "outputs": [],
   "source": [
    "test = test.drop(columns=['keyword', 'location', 'text'])"
   ]
  },
  {
   "cell_type": "code",
   "execution_count": 153,
   "id": "beec44f2",
   "metadata": {},
   "outputs": [],
   "source": [
    "test.to_csv(r'test_1.csv', index=False)"
   ]
  },
  {
   "cell_type": "code",
   "execution_count": null,
   "id": "426fcc96",
   "metadata": {},
   "outputs": [],
   "source": [
    "pred=NB_Vec.predict(test_vectors_count)"
   ]
  },
  {
   "cell_type": "code",
   "execution_count": null,
   "id": "077a7ee5",
   "metadata": {},
   "outputs": [],
   "source": []
  },
  {
   "cell_type": "code",
   "execution_count": null,
   "id": "2786f6f2",
   "metadata": {},
   "outputs": [],
   "source": []
  },
  {
   "cell_type": "code",
   "execution_count": 170,
   "id": "f60fbdf4",
   "metadata": {},
   "outputs": [
    {
     "data": {
      "text/plain": [
       "SVC(gamma='auto', kernel='linear')"
      ]
     },
     "execution_count": 170,
     "metadata": {},
     "output_type": "execute_result"
    }
   ],
   "source": [
    "svm_model = svm.SVC(kernel = 'linear', gamma='auto')\n",
    "svm_model.fit(train_vectors_count, train['target'])\n"
   ]
  },
  {
   "cell_type": "code",
   "execution_count": 171,
   "id": "2979f7ad",
   "metadata": {},
   "outputs": [],
   "source": [
    "pred1 = svm_model.predict(test_vectors_count)"
   ]
  },
  {
   "cell_type": "code",
   "execution_count": 172,
   "id": "a8438cc6",
   "metadata": {},
   "outputs": [
    {
     "data": {
      "text/plain": [
       "array([1, 1, 1, ..., 1, 1, 1], dtype=int64)"
      ]
     },
     "execution_count": 172,
     "metadata": {},
     "output_type": "execute_result"
    }
   ],
   "source": [
    "pred1"
   ]
  },
  {
   "cell_type": "code",
   "execution_count": 173,
   "id": "398e6ff3",
   "metadata": {},
   "outputs": [],
   "source": [
    "test['target'] = pred1"
   ]
  },
  {
   "cell_type": "code",
   "execution_count": 168,
   "id": "31e8cd53",
   "metadata": {},
   "outputs": [
    {
     "data": {
      "text/html": [
       "<div>\n",
       "<style scoped>\n",
       "    .dataframe tbody tr th:only-of-type {\n",
       "        vertical-align: middle;\n",
       "    }\n",
       "\n",
       "    .dataframe tbody tr th {\n",
       "        vertical-align: top;\n",
       "    }\n",
       "\n",
       "    .dataframe thead th {\n",
       "        text-align: right;\n",
       "    }\n",
       "</style>\n",
       "<table border=\"1\" class=\"dataframe\">\n",
       "  <thead>\n",
       "    <tr style=\"text-align: right;\">\n",
       "      <th></th>\n",
       "      <th>id</th>\n",
       "      <th>target</th>\n",
       "    </tr>\n",
       "  </thead>\n",
       "  <tbody>\n",
       "    <tr>\n",
       "      <th>0</th>\n",
       "      <td>0</td>\n",
       "      <td>1</td>\n",
       "    </tr>\n",
       "    <tr>\n",
       "      <th>1</th>\n",
       "      <td>2</td>\n",
       "      <td>1</td>\n",
       "    </tr>\n",
       "    <tr>\n",
       "      <th>2</th>\n",
       "      <td>3</td>\n",
       "      <td>1</td>\n",
       "    </tr>\n",
       "    <tr>\n",
       "      <th>3</th>\n",
       "      <td>9</td>\n",
       "      <td>1</td>\n",
       "    </tr>\n",
       "    <tr>\n",
       "      <th>4</th>\n",
       "      <td>11</td>\n",
       "      <td>1</td>\n",
       "    </tr>\n",
       "    <tr>\n",
       "      <th>...</th>\n",
       "      <td>...</td>\n",
       "      <td>...</td>\n",
       "    </tr>\n",
       "    <tr>\n",
       "      <th>3258</th>\n",
       "      <td>10861</td>\n",
       "      <td>1</td>\n",
       "    </tr>\n",
       "    <tr>\n",
       "      <th>3259</th>\n",
       "      <td>10865</td>\n",
       "      <td>1</td>\n",
       "    </tr>\n",
       "    <tr>\n",
       "      <th>3260</th>\n",
       "      <td>10868</td>\n",
       "      <td>1</td>\n",
       "    </tr>\n",
       "    <tr>\n",
       "      <th>3261</th>\n",
       "      <td>10874</td>\n",
       "      <td>1</td>\n",
       "    </tr>\n",
       "    <tr>\n",
       "      <th>3262</th>\n",
       "      <td>10875</td>\n",
       "      <td>1</td>\n",
       "    </tr>\n",
       "  </tbody>\n",
       "</table>\n",
       "<p>3263 rows × 2 columns</p>\n",
       "</div>"
      ],
      "text/plain": [
       "         id  target\n",
       "0         0       1\n",
       "1         2       1\n",
       "2         3       1\n",
       "3         9       1\n",
       "4        11       1\n",
       "...     ...     ...\n",
       "3258  10861       1\n",
       "3259  10865       1\n",
       "3260  10868       1\n",
       "3261  10874       1\n",
       "3262  10875       1\n",
       "\n",
       "[3263 rows x 2 columns]"
      ]
     },
     "execution_count": 168,
     "metadata": {},
     "output_type": "execute_result"
    }
   ],
   "source": [
    "test"
   ]
  },
  {
   "cell_type": "code",
   "execution_count": 174,
   "id": "aedd39d0",
   "metadata": {},
   "outputs": [],
   "source": [
    "test.to_csv(r'test_svm.csv', index=False)"
   ]
  },
  {
   "cell_type": "code",
   "execution_count": null,
   "id": "d3fe15a3",
   "metadata": {},
   "outputs": [],
   "source": []
  }
 ],
 "metadata": {
  "kernelspec": {
   "display_name": "Python 3",
   "language": "python",
   "name": "python3"
  },
  "language_info": {
   "codemirror_mode": {
    "name": "ipython",
    "version": 3
   },
   "file_extension": ".py",
   "mimetype": "text/x-python",
   "name": "python",
   "nbconvert_exporter": "python",
   "pygments_lexer": "ipython3",
   "version": "3.8.8"
  }
 },
 "nbformat": 4,
 "nbformat_minor": 5
}
